{
 "cells": [
  {
   "cell_type": "code",
   "execution_count": 2,
   "id": "sharp-rochester",
   "metadata": {},
   "outputs": [
    {
     "name": "stdout",
     "output_type": "stream",
     "text": [
      "['test', 1, [1], {'test': 1}]\n"
     ]
    }
   ],
   "source": [
    "#server.py\n",
    "\n",
    "test_str = \"test\"\n",
    "test_int = 1\n",
    "test_list = [1]\n",
    "test_set = {\"test\": 1}\n",
    "\n",
    "temp = [test_str, test_int, test_list, test_set]\n",
    "print(temp)"
   ]
  },
  {
   "cell_type": "code",
   "execution_count": null,
   "id": "silver-november",
   "metadata": {},
   "outputs": [],
   "source": []
  }
 ],
 "metadata": {
  "kernelspec": {
   "display_name": "Python 3",
   "language": "python",
   "name": "python3"
  },
  "language_info": {
   "codemirror_mode": {
    "name": "ipython",
    "version": 3
   },
   "file_extension": ".py",
   "mimetype": "text/x-python",
   "name": "python",
   "nbconvert_exporter": "python",
   "pygments_lexer": "ipython3",
   "version": "3.8.0"
  }
 },
 "nbformat": 4,
 "nbformat_minor": 5
}
