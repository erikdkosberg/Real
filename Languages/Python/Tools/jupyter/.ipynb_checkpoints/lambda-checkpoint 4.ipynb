{
 "cells": [
  {
   "cell_type": "code",
   "execution_count": null,
   "metadata": {},
   "outputs": [],
   "source": [
    "#The purpose of this set of Modules is to illustrate Lamda Functions and how they can be applied"
   ]
  },
  {
   "cell_type": "code",
   "execution_count": 1,
   "metadata": {},
   "outputs": [
    {
     "name": "stdout",
     "output_type": "stream",
     "text": [
      "57.0087712549569\n"
     ]
    }
   ],
   "source": [
    "#lambda functions\n",
    "\"\"\"\n",
    "lambda argument(s): expression\n",
    "\n",
    "**    can have any # of arguments but only a single expression     **\n",
    "\n",
    "Let's start with some basic notes about Lamda Functions:\n",
    "    syntax --> x = lamda num : num % 2\n",
    "    input  --> print(x(5))\n",
    "    output --> 1\n",
    "    \n",
    "It's basically an easy way to make a quick function in one line; often used as a way to pass a function\n",
    "to a higher order function.\n",
    "    \n",
    "\n",
    "\"\"\"\n",
    "#example of the pythagorean theorem, adjust test result to solve for Z\n",
    "z = lambda x, y : (x**2 + y**2)**.5\n",
    "\n",
    "#function to display\n",
    "def test_result(x,y):\n",
    "    print(z(x,y))\n",
    "\n",
    "#adjust here: the output is the square root of Z squared(the missing side)\n",
    "test_result(3,45)"
   ]
  },
  {
   "cell_type": "code",
   "execution_count": 13,
   "metadata": {},
   "outputs": [
    {
     "name": "stdout",
     "output_type": "stream",
     "text": [
      "[8, 10, 11, 12, 13, 17, 21]\n"
     ]
    }
   ],
   "source": [
    "#filter() function\n",
    "\"\"\"\n",
    "filter(object, iterable)\n",
    "\n",
    "** A.)    object should be a lambda function returning boolean value    **\n",
    "\n",
    "** B.)    the object will be called for every item in the iterable    **\n",
    "\n",
    "** C.)    filter() returns a list of those that return TRUE    **\n",
    "\n",
    "\"\"\"\n",
    "numbers_list = [2, 6, 8, 10, 11, 4, 12, 7, 13, 17, 0, 3, 21]\n",
    "\n",
    "filtered_list = list(filter(lambda num: (num > 7), numbers_list))\n",
    "\n",
    "print(filtered_list)"
   ]
  },
  {
   "cell_type": "code",
   "execution_count": 7,
   "metadata": {},
   "outputs": [
    {
     "name": "stdout",
     "output_type": "stream",
     "text": [
      "[0, 0, 0, 0, 1, 0, 0, 1, 1, 1, 0, 1, 1]\n"
     ]
    }
   ],
   "source": [
    "#map() function\n",
    "\"\"\"\n",
    "map(object, iterable_1, iterable_2, ...)\n",
    "\n",
    "**    takes the same boolean lamda function as in input object\n",
    "\n",
    "**    iterable can be any iterable type (i.e. dictionary, list, etc)\n",
    "\n",
    "**    returns a map object holding 0's and 1's; needs to be converted to a list\n",
    "\n",
    "\"\"\"\n",
    "numbers_list = [2, 6, 8, 10, 11, 4, 12, 7, 13, 17, 0, 3, 21]\n",
    "\n",
    "mapped_list = list(map(lambda num: num % 2, numbers_list))\n",
    "\n",
    "print(mapped_list)"
   ]
  }
 ],
 "metadata": {
  "kernelspec": {
   "display_name": "Python 3",
   "language": "python",
   "name": "python3"
  },
  "language_info": {
   "codemirror_mode": {
    "name": "ipython",
    "version": 3
   },
   "file_extension": ".py",
   "mimetype": "text/x-python",
   "name": "python",
   "nbconvert_exporter": "python",
   "pygments_lexer": "ipython3",
   "version": "3.6.6+"
  }
 },
 "nbformat": 4,
 "nbformat_minor": 5
}
