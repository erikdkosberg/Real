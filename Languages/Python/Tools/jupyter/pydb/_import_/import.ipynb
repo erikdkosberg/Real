{
 "cells": [
  {
   "cell_type": "code",
   "execution_count": 5,
   "id": "remarkable-listing",
   "metadata": {},
   "outputs": [
    {
     "name": "stdout",
     "output_type": "stream",
     "text": [
      "<__main__.Product object at 0x7f803c32b7f0>\n"
     ]
    }
   ],
   "source": [
    "try: file_obj\n",
    "except NameError: file_obj = [\"1\", 1, [1], {\"test\": 1}]\n",
    "    \n",
    "name = \"Product Test\"\n",
    "class Product():\n",
    "    def __init__(self, name, string, integer, ls, dic):\n",
    "        self.name = name\n",
    "        self.string = file_obj[0]\n",
    "        self.integer = file_obj[1]\n",
    "        self.ls = file_obj[2]\n",
    "        self.dic = file_obj[3]\n",
    "\n",
    "Product(name, 1,2,3,4)\n"
   ]
  },
  {
   "cell_type": "code",
   "execution_count": 10,
   "id": "spoken-shoulder",
   "metadata": {},
   "outputs": [
    {
     "data": {
      "text/plain": [
       "type"
      ]
     },
     "execution_count": 10,
     "metadata": {},
     "output_type": "execute_result"
    }
   ],
   "source": [
    "type(Product)"
   ]
  },
  {
   "cell_type": "code",
   "execution_count": null,
   "id": "brilliant-lending",
   "metadata": {},
   "outputs": [],
   "source": []
  },
  {
   "cell_type": "code",
   "execution_count": null,
   "id": "quiet-modeling",
   "metadata": {},
   "outputs": [],
   "source": []
  }
 ],
 "metadata": {
  "kernelspec": {
   "display_name": "Python 3",
   "language": "python",
   "name": "python3"
  },
  "language_info": {
   "codemirror_mode": {
    "name": "ipython",
    "version": 3
   },
   "file_extension": ".py",
   "mimetype": "text/x-python",
   "name": "python",
   "nbconvert_exporter": "python",
   "pygments_lexer": "ipython3",
   "version": "3.8.0"
  }
 },
 "nbformat": 4,
 "nbformat_minor": 5
}
