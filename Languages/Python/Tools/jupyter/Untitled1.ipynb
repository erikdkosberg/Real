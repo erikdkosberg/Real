{
 "cells": [
  {
   "cell_type": "code",
   "execution_count": 7,
   "id": "rising-update",
   "metadata": {},
   "outputs": [],
   "source": [
    "import socket"
   ]
  },
  {
   "cell_type": "code",
   "execution_count": 8,
   "id": "express-static",
   "metadata": {},
   "outputs": [],
   "source": [
    "class MySocket:\n",
    "    \"\"\"demonstration class only\n",
    "      - coded for clarity, not efficiency\n",
    "    \"\"\"\n",
    "\n",
    "    def __init__(self, sock=None):\n",
    "        if sock is None:\n",
    "            self.sock = socket.socket(\n",
    "                            socket.AF_INET, socket.SOCK_STREAM)\n",
    "        else:\n",
    "            self.sock = sock\n",
    "\n",
    "    def connect(self, host, port):\n",
    "        self.sock.connect((host, port))\n",
    "\n",
    "    def mysend(self, msg):\n",
    "        totalsent = 0\n",
    "        while totalsent < MSGLEN:\n",
    "            sent = self.sock.send(msg[totalsent:])\n",
    "            if sent == 0:\n",
    "                raise RuntimeError(\"socket connection broken\")\n",
    "            totalsent = totalsent + sent\n",
    "\n",
    "    def myreceive(self):\n",
    "        chunks = []\n",
    "        bytes_recd = 0\n",
    "        while bytes_recd < MSGLEN:\n",
    "            chunk = self.sock.recv(min(MSGLEN - bytes_recd, 2048))\n",
    "            if chunk == b'':\n",
    "                raise RuntimeError(\"socket connection broken\")\n",
    "            chunks.append(chunk)\n",
    "            bytes_recd = bytes_recd + len(chunk)\n",
    "        return b''.join(chunks)"
   ]
  },
  {
   "cell_type": "code",
   "execution_count": 21,
   "id": "incorporated-generic",
   "metadata": {},
   "outputs": [
    {
     "ename": "BlockingIOError",
     "evalue": "[Errno 36] Operation now in progress",
     "output_type": "error",
     "traceback": [
      "\u001b[0;31m---------------------------------------------------------------------------\u001b[0m",
      "\u001b[0;31mBlockingIOError\u001b[0m                           Traceback (most recent call last)",
      "\u001b[0;32m<ipython-input-21-26899a1ba52a>\u001b[0m in \u001b[0;36m<module>\u001b[0;34m\u001b[0m\n\u001b[1;32m      1\u001b[0m \u001b[0mmy_socket\u001b[0m \u001b[0;34m=\u001b[0m \u001b[0mMySocket\u001b[0m\u001b[0;34m(\u001b[0m\u001b[0;34m)\u001b[0m\u001b[0;34m\u001b[0m\u001b[0;34m\u001b[0m\u001b[0m\n\u001b[1;32m      2\u001b[0m \u001b[0mmy_socket\u001b[0m\u001b[0;34m.\u001b[0m\u001b[0msock\u001b[0m\u001b[0;34m.\u001b[0m\u001b[0msetblocking\u001b[0m\u001b[0;34m(\u001b[0m\u001b[0;32mFalse\u001b[0m\u001b[0;34m)\u001b[0m\u001b[0;34m\u001b[0m\u001b[0;34m\u001b[0m\u001b[0m\n\u001b[0;32m----> 3\u001b[0;31m \u001b[0mmy_socket\u001b[0m\u001b[0;34m.\u001b[0m\u001b[0mconnect\u001b[0m\u001b[0;34m(\u001b[0m\u001b[0;34m\"10.0.1.20\"\u001b[0m\u001b[0;34m,\u001b[0m \u001b[0;36m8008\u001b[0m\u001b[0;34m)\u001b[0m\u001b[0;34m\u001b[0m\u001b[0;34m\u001b[0m\u001b[0m\n\u001b[0m",
      "\u001b[0;32m<ipython-input-8-ec7f97be76d7>\u001b[0m in \u001b[0;36mconnect\u001b[0;34m(self, host, port)\u001b[0m\n\u001b[1;32m     12\u001b[0m \u001b[0;34m\u001b[0m\u001b[0m\n\u001b[1;32m     13\u001b[0m     \u001b[0;32mdef\u001b[0m \u001b[0mconnect\u001b[0m\u001b[0;34m(\u001b[0m\u001b[0mself\u001b[0m\u001b[0;34m,\u001b[0m \u001b[0mhost\u001b[0m\u001b[0;34m,\u001b[0m \u001b[0mport\u001b[0m\u001b[0;34m)\u001b[0m\u001b[0;34m:\u001b[0m\u001b[0;34m\u001b[0m\u001b[0;34m\u001b[0m\u001b[0m\n\u001b[0;32m---> 14\u001b[0;31m         \u001b[0mself\u001b[0m\u001b[0;34m.\u001b[0m\u001b[0msock\u001b[0m\u001b[0;34m.\u001b[0m\u001b[0mconnect\u001b[0m\u001b[0;34m(\u001b[0m\u001b[0;34m(\u001b[0m\u001b[0mhost\u001b[0m\u001b[0;34m,\u001b[0m \u001b[0mport\u001b[0m\u001b[0;34m)\u001b[0m\u001b[0;34m)\u001b[0m\u001b[0;34m\u001b[0m\u001b[0;34m\u001b[0m\u001b[0m\n\u001b[0m\u001b[1;32m     15\u001b[0m \u001b[0;34m\u001b[0m\u001b[0m\n\u001b[1;32m     16\u001b[0m     \u001b[0;32mdef\u001b[0m \u001b[0mmysend\u001b[0m\u001b[0;34m(\u001b[0m\u001b[0mself\u001b[0m\u001b[0;34m,\u001b[0m \u001b[0mmsg\u001b[0m\u001b[0;34m)\u001b[0m\u001b[0;34m:\u001b[0m\u001b[0;34m\u001b[0m\u001b[0;34m\u001b[0m\u001b[0m\n",
      "\u001b[0;31mBlockingIOError\u001b[0m: [Errno 36] Operation now in progress"
     ]
    }
   ],
   "source": [
    "my_socket = MySocket()\n",
    "my_socket.sock.setblocking(False)\n",
    "my_socket.connect(\"10.0.1.20\", 8008)"
   ]
  },
  {
   "cell_type": "code",
   "execution_count": null,
   "id": "fresh-soundtrack",
   "metadata": {},
   "outputs": [],
   "source": []
  },
  {
   "cell_type": "code",
   "execution_count": null,
   "id": "liberal-fundamentals",
   "metadata": {},
   "outputs": [],
   "source": []
  }
 ],
 "metadata": {
  "kernelspec": {
   "display_name": "Python 3",
   "language": "python",
   "name": "python3"
  },
  "language_info": {
   "codemirror_mode": {
    "name": "ipython",
    "version": 3
   },
   "file_extension": ".py",
   "mimetype": "text/x-python",
   "name": "python",
   "nbconvert_exporter": "python",
   "pygments_lexer": "ipython3",
   "version": "3.8.0"
  }
 },
 "nbformat": 4,
 "nbformat_minor": 5
}
